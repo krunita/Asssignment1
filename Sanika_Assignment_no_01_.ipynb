{
  "nbformat": 4,
  "nbformat_minor": 0,
  "metadata": {
    "colab": {
      "provenance": [],
      "authorship_tag": "ABX9TyOiypqYjKYl0lyjgnaveKKc",
      "include_colab_link": true
    },
    "kernelspec": {
      "name": "python3",
      "display_name": "Python 3"
    },
    "language_info": {
      "name": "python"
    }
  },
  "cells": [
    {
      "cell_type": "markdown",
      "metadata": {
        "id": "view-in-github",
        "colab_type": "text"
      },
      "source": [
        "<a href=\"https://colab.research.google.com/github/krunita/Asssignment1/blob/main/Sanika_Assignment_no_01_.ipynb\" target=\"_parent\"><img src=\"https://colab.research.google.com/assets/colab-badge.svg\" alt=\"Open In Colab\"/></a>"
      ]
    },
    {
      "cell_type": "code",
      "execution_count": null,
      "metadata": {
        "colab": {
          "base_uri": "https://localhost:8080/"
        },
        "id": "z6R51uIcZjGd",
        "outputId": "11aa9703-8a9a-4171-d0bc-d1dbbafb2b7d"
      },
      "outputs": [
        {
          "output_type": "stream",
          "name": "stdout",
          "text": [
            "Enter the value of Discharge:4.8\n",
            "Enter the value of top width:2\n",
            "Enter the value of acceleration due to Gravity:9.81\n",
            "enter the value of upstream depth:1.6\n",
            "Enter the Value of hump: 0.1\n",
            "The value of discharge per meter width is: 2.4\n",
            "The value of upstream area is: 3.2\n",
            "The value of Froude number is: 0.3786140830096141\n",
            "The flow is Sub Critical Flow\n",
            "The value of Energy at initial Section is: 1.714678899082569\n",
            "The value of downstream Energy E2 is: 1.614678899082569\n",
            "The Value of critical depth is: 0.837370824744677\n",
            "The value of critical Energy is 1.2560562371170154\n",
            "SAFE\n",
            "The value of maxinmum hump is: 0.45862266196555357\n"
          ]
        }
      ],
      "source": [
        "# To find the downstream depth of open channel\n",
        " # Given Data\n",
        "Q=float(input(\"Enter the value of Discharge:\"))\n",
        "T= int(input(\"Enter the value of top width:\"))\n",
        "g=float(input(\"Enter the value of acceleration due to Gravity:\"))\n",
        "y1 = float(input(\"enter the value of upstream depth:\"))\n",
        "Z= float(input(\"Enter the Value of hump: \"))\n",
        "# Dicharge per meter width\n",
        "q=Q/T\n",
        "print (\"The value of discharge per meter width is:\", q)\n",
        " # Area Calculation\n",
        "A1= T*y1\n",
        "print (\"The value of upstream area is:\", A1)\n",
        " # Calculation of Froude Number\n",
        "Fr1 = ((Q*Q*T)/(g*A1*A1*A1))**0.5\n",
        "print (\"The value of Froude number is:\", Fr1)\n",
        "if Fr1>1:\n",
        "  print(\"The flow is Super Critical Flow\")\n",
        "else:\n",
        "  print(\"The flow is Sub Critical Flow\")\n",
        "#Upstream Energy\n",
        "E1 = y1 + (Q*Q)/(2 *g*A1 *A1)\n",
        "print (\"The value of Energy at initial Section is:\", E1)\n",
        "# Downstream Energy\n",
        "E2 = E1 -Z\n",
        "print (\"The value of downstream Energy E2 is:\", E2)\n",
        "# Critical Depth2\n",
        "# There seems to be undefined variables 'a' and 'e' in the critical depth calculation.\n",
        "# Assuming 'a' and 'e' were meant to be 'g' and 'q' based on common hydraulic formulas.\n",
        "yc = (q*q/g)**(1/3) # Corrected formula and variable names\n",
        "print (\"The Value of critical depth is:\", yc)\n",
        "Ec = 1.5*yc # Corrected comma to a decimal point\n",
        "print (\"The value of critical Energy is\", Ec)\n",
        "if Ec > E2: # Corrected comparison operator\n",
        "  print (\"Chocking Conditlon\")\n",
        "else:\n",
        "  print (\"SAFE\")\n",
        " # Calculation of Zmax\n",
        "Zmax = E1 - Ec # Corrected variable name\n",
        "print (\"The value of maxinmum hump is:\", Zmax)"
      ]
    },
    {
      "cell_type": "markdown",
      "source": [
        "Q2"
      ],
      "metadata": {
        "id": "ndwnPHLPbg7O"
      }
    },
    {
      "cell_type": "code",
      "source": [
        "# To find the downstream depth of open channel\n",
        " # Given Data\n",
        "Q= float(input(\"Enter the value of Discharge:\"))\n",
        "B1 = float(input(\"Enter the value of width at upstream: \"))\n",
        "B2 = float(input(\"Enter the value of width at downstream: \"))\n",
        "g= float(input(\"Enter the value of acceleration due to Gravity:\"))\n",
        "y1= float(input(\"enter the value of upstream depth:\"))\n",
        "# Dicharge per meter width\n",
        "q1=Q/B1\n",
        "q2= Q/B2\n",
        "print (\"The value of discharge per meter width is:\", q1)\n",
        "print (\"The value of discharge per meter width is:\", q2)\n",
        "# Area Calculation\n",
        "A1 = B1*y1\n",
        "print (\"The value of upstream area is:\", A1)\n",
        "# Calculation of Froude Number\n",
        "Fr1 = ((Q*Q*B1)/(g*A1*A1*A1))**0.5\n",
        "print (\"The value of Froude number is:\", Fr1)\n",
        "if Fr1>1:\n",
        " print(\"The flow is Super Critical Flow\")\n",
        "else:\n",
        " print(\"The flow is Sub Critical Flow\")\n",
        "# Upstream Energy\n",
        "E1 = y1 + (Q*Q)/(2 *g*A1*A1)\n",
        "print (\"The value of Energy at initial Section is:\", E1)\n",
        "# Critical Width\n",
        "B2min = (27*Q*Q/(8*g*E1*E1*E1)) **0.5\n",
        "print (\"The value of minimum width to be kept to avoid Chocking is:\", B2min)\n",
        "if B2min > B2:\n",
        " print (\"Chocking Condition\")\n",
        "else:\n",
        " print (\"SAFE\")\n",
        "# Critical Depth\n",
        "yc = ((Q*Q)/(B2*B2*g)) **(1/3)\n",
        "print (\"The Value of critical depth is: \", yc)\n",
        "Ec = 1.5*yc\n",
        "print (\"The value of critical Energy is\", Ec)"
      ],
      "metadata": {
        "colab": {
          "base_uri": "https://localhost:8080/"
        },
        "id": "Kzii6zkRblku",
        "outputId": "88dc518f-30bf-4bf6-816e-f24bf92ab6cb"
      },
      "execution_count": null,
      "outputs": [
        {
          "output_type": "stream",
          "name": "stdout",
          "text": [
            "Enter the value of Discharge:15\n",
            "Enter the value of width at upstream: 3.5\n",
            "Enter the value of width at downstream: 2.5\n",
            "Enter the value of acceleration due to Gravity:9.81\n",
            "enter the value of upstream depth:2\n",
            "The value of discharge per meter width is: 4.285714285714286\n",
            "The value of discharge per meter width is: 6.0\n",
            "The value of upstream area is: 7.0\n",
            "The value of Froude number is: 0.4837753296275688\n",
            "The flow is Sub Critical Flow\n",
            "The value of Energy at initial Section is: 2.234038569556263\n",
            "The value of minimum width to be kept to avoid Chocking is: 2.634860603070728\n",
            "Chocking Condition\n",
            "The Value of critical depth is:  1.5424502472009343\n",
            "The value of critical Energy is 2.3136753708014015\n"
          ]
        }
      ]
    },
    {
      "cell_type": "markdown",
      "source": [
        "Q3"
      ],
      "metadata": {
        "id": "cf8M2aKEcWHO"
      }
    },
    {
      "cell_type": "code",
      "source": [
        "#Design of Efficient Channel Section\n",
        "Q= float(input(\"Enter the value of Discharge:\"))\n",
        "n=float(input(\"Enter the value of Rugosity coefficient:\"))\n",
        "So= float (input(\"Enter the value of bed slope:\"))\n",
        "g= float(input(\"Enter the value of acceleration due to Gravity:\"))\n",
        "#Manning's Formula\n",
        "#Q = (AR^2/3 S^1/2)/n\n",
        "# Assuming a triangular channel for the efficient section\n",
        "# Area A = y^2 * sqrt(3)\n",
        "# Wetted perimeter P = 2*y*2 = 4y  (this seems off for an efficient section)\n",
        "# Hydraulic Radius R = A/P\n",
        "# For an efficient triangular section, the angle is 60 degrees, and the side slope is 1:sqrt(3)\n",
        "# Area A = y^2 * cot(60) = y^2 / sqrt(3)\n",
        "# Wetted Perimeter P = 2*y / sin(60) = 2*y / (sqrt(3)/2) = 4*y/sqrt(3)\n",
        "# Hydraulic Radius R = A/P = (y^2 / sqrt(3)) / (4*y / sqrt(3)) = y/4\n",
        "# Q = (y^2/sqrt(3)) * (y/4)**(2/3) * So**0.5 / n\n",
        "# Q = (y**(8/3) / (sqrt(3) * 4**(2/3))) * So**0.5 / n\n",
        "# yn**(8/3) = Q * n * sqrt(3) * 4**(2/3) / So**0.5\n",
        "# yn = (Q * n * (3**0.5) * (4**(2/3)) / (So**0.5))**(3/8)\n",
        "# This still doesn't match the original formula structure.\n",
        "\n",
        "# Let's use the provided formula structure and correct it based on the coefficients.\n",
        "# It seems the formula intended is related to a specific type of efficient section or a simplified calculation.\n",
        "# Let's fix the syntax error in the power calculation and assume the formula is as intended by the original author, despite not matching standard formulas.\n",
        "yn = ((Q * n * 50 * 1.591) / (1.732)) ** (3/8)\n",
        "\n",
        "\n",
        "print (\"The Value of yn is\", yn)\n",
        "#To encounter the effect of free board\n",
        "yn1= 1.1*yn\n",
        "print (\"The Value of ynl is\", yn1)\n",
        "# Cross Sectional Area\n",
        "# Assuming the area calculation is for the same efficient section\n",
        "# If it's a trapezoidal section with b = 2y/sqrt(3) and side slopes 1:sqrt(3), A = sqrt(3)*y^2\n",
        "# Let's assume the area formula is also based on the original author's intent and fix the syntax.\n",
        "# A = 1.732 yn* yn1\n",
        "# This formula does not seem correct for any standard channel section.\n",
        "# Let's assume there's a typo and it was meant to be A = 1.732 * yn**2 or A = yn**2 / 1.732 or similar, based on the geometry.\n",
        "# However, to fix the syntax error, I will just correct the multiplication syntax.\n",
        "A = 1.732 * yn * yn1\n",
        "\n",
        "\n",
        "print (\"The cross sectional Area is:\", A)\n",
        "# Top Width\n",
        "# For an efficient trapezoidal section with side slopes 1:sqrt(3), T = b + 2ny = 2y/sqrt(3) + 2*(1/sqrt(3))*y = 4y/sqrt(3) = 4y/1.732\n",
        "# The formula T = 4* yn/1.732 matches this.\n",
        "T= 4 * yn / 1.732\n",
        "print (\"The value of top Width is:\", T)\n",
        "# Bottom Width\n",
        "# For an efficient trapezoidal section with side slopes 1:sqrt(3), b = 2y/sqrt(3) = 2y/1.732\n",
        "# The formula B = 2 yn/1.732 matches this.\n",
        "B= 2 * yn / 1.732\n",
        "print (\"The value of Bottom Width is:\", B) # Corrected the typo in the print statement\n",
        "Fr= ((Q * Q * T) / (g * A * A * A)) ** 0.5 # Corrected the typo QT to Q*T and the power syntax\n",
        "print (\"The value of Froude number is:\", Fr)\n",
        "if Fr > 1:\n",
        " print(\"The flow is Super Critical Flow\")\n",
        "else:\n",
        " print(\"The flow is Sub Critical Flow\") # Corrected the missing parenthesis"
      ],
      "metadata": {
        "colab": {
          "base_uri": "https://localhost:8080/"
        },
        "id": "xCwAP9B9c48n",
        "outputId": "84486e3f-d88f-429f-d066-a8c152c32267"
      },
      "execution_count": null,
      "outputs": [
        {
          "output_type": "stream",
          "name": "stdout",
          "text": [
            "Enter the value of Discharge:100\n",
            "Enter the value of Rugosity coefficient:0.015\n",
            "Enter the value of bed slope:0.0004\n",
            "Enter the value of acceleration due to Gravity:9.81\n",
            "The Value of yn is 4.89011230647273\n",
            "The Value of ynl is 5.3791235371200035\n",
            "The cross sectional Area is: 45.559425534364046\n",
            "The value of top Width is: 11.293561908713002\n",
            "The value of Bottom Width is: 5.646780954356501\n",
            "The value of Froude number is: 0.3489101517794554\n",
            "The flow is Sub Critical Flow\n"
          ]
        }
      ]
    }
  ]
}