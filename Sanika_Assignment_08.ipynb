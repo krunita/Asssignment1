{
  "nbformat": 4,
  "nbformat_minor": 0,
  "metadata": {
    "colab": {
      "provenance": [],
      "authorship_tag": "ABX9TyORmb/mcnGtrgV+FseLPIIh",
      "include_colab_link": true
    },
    "kernelspec": {
      "name": "python3",
      "display_name": "Python 3"
    },
    "language_info": {
      "name": "python"
    }
  },
  "cells": [
    {
      "cell_type": "markdown",
      "metadata": {
        "id": "view-in-github",
        "colab_type": "text"
      },
      "source": [
        "<a href=\"https://colab.research.google.com/github/krunita/Asssignment1/blob/main/Sanika_Assignment_08.ipynb\" target=\"_parent\"><img src=\"https://colab.research.google.com/assets/colab-badge.svg\" alt=\"Open In Colab\"/></a>"
      ]
    },
    {
      "cell_type": "code",
      "execution_count": null,
      "metadata": {
        "id": "YIIoim_MM9ty"
      },
      "outputs": [],
      "source": []
    },
    {
      "cell_type": "markdown",
      "source": [
        "Q1"
      ],
      "metadata": {
        "id": "HGun_mHMNE3b"
      }
    },
    {
      "cell_type": "code",
      "source": [
        "\n",
        "# To determine alkalinity of given sample\n",
        "H2S04_reg = float(input(\"Enter the volume of H2S04 required in ml:\"))\n",
        "Sample = float(input(\"Enter the value of sample in litres:\"))\n",
        "Alkalinity_Removed = H2S04_reg\n",
        "print(\"Alkalinity Removed: \", Alkalinity_Removed, \"mg\")\n",
        "Alk_mgperlit = Alkalinity_Removed / Sample\n",
        "print(\"Total Alkalinity:\", Alk_mgperlit, \"mg/lit\")\n",
        "OH= float (input(\"Enter the value of OH-Alkalinity present : \"))\n",
        "#Alkalinity removed till pH of 8.3\n",
        "H2S04_req = float (input(\"Enter the volume of H2504 required in ml :\"))\n",
        "Alkalinity_Removed = H2S04_req\n",
        "print(\"Alkalinity Removed: \",Alkalinity_Removed, \"mg\")\n",
        "CO3_Combined = Alkalinity_Removed/Sample\n",
        "print (\"Carbonate Alkalinity upto pH8.3:\",CO3_Combined, \"mgperlit\")\n",
        "CO3 = CO3_Combined - OH\n",
        "print(\"Carbonate Alkalinity:\", CO3,\"mg/lit\")\n",
        "HCO3 = Alk_mgperlit - 2*CO3- OH\n",
        "print(\"Bicarbonate Alkalinity:\", HCO3, \"mg/it\")"
      ],
      "metadata": {
        "colab": {
          "base_uri": "https://localhost:8080/"
        },
        "id": "dBFXeECvNvSO",
        "outputId": "df5152d7-275c-4df2-c1a3-54972dcdfa1c"
      },
      "execution_count": null,
      "outputs": [
        {
          "output_type": "stream",
          "name": "stdout",
          "text": [
            "Enter the volume of H2S04 required in ml:30\n",
            "Enter the value of sample in litres:0.2\n",
            "Alkalinity Removed:  30.0 mg\n",
            "Total Alkalinity: 150.0 mg/lit\n",
            "Enter the value of OH-Alkalinity present : 5\n",
            "Enter the volume of H2504 required in ml :11\n",
            "Alkalinity Removed:  11.0 mg\n",
            "Carbonate Alkalinity upto pH8.3: 55.0 mgperlit\n",
            "Carbonate Alkalinity: 50.0 mg/lit\n",
            "Bicarbonate Alkalinity: 45.0 mg/it\n"
          ]
        }
      ]
    }
  ]
}