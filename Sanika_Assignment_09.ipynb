{
  "nbformat": 4,
  "nbformat_minor": 0,
  "metadata": {
    "colab": {
      "provenance": [],
      "authorship_tag": "ABX9TyP92KDZqR88uzZKAqMvAbsa",
      "include_colab_link": true
    },
    "kernelspec": {
      "name": "python3",
      "display_name": "Python 3"
    },
    "language_info": {
      "name": "python"
    }
  },
  "cells": [
    {
      "cell_type": "markdown",
      "metadata": {
        "id": "view-in-github",
        "colab_type": "text"
      },
      "source": [
        "<a href=\"https://colab.research.google.com/github/krunita/Asssignment1/blob/main/Sanika_Assignment_09.ipynb\" target=\"_parent\"><img src=\"https://colab.research.google.com/assets/colab-badge.svg\" alt=\"Open In Colab\"/></a>"
      ]
    },
    {
      "cell_type": "markdown",
      "source": [
        "Q1"
      ],
      "metadata": {
        "id": "6n0sSAXBPQKL"
      }
    },
    {
      "cell_type": "code",
      "execution_count": null,
      "metadata": {
        "colab": {
          "base_uri": "https://localhost:8080/"
        },
        "id": "uQz-ubh6PHzt",
        "outputId": "e9ec3313-bf64-4494-ecc3-75082ca86e90"
      },
      "outputs": [
        {
          "output_type": "stream",
          "name": "stdout",
          "text": [
            "Decay Coefficient:0.23\n",
            "Temperature of 3rd day BOD:20\n",
            "Temperature of 7th day BOD:25\n",
            "The value ofK2 is: 0.2893751572825015\n",
            "The value ofe is: 2.718\n",
            "BOD at 3rd day 20c:50\n",
            "time in days for finding B1:3\n",
            "The value of E is: 0.4984236981372012\n",
            "The value of 10 is: 10\n",
            "BoD at 7rd day 25c:50\n",
            "time in days for findinfB2:7\n",
            "The value ofEl is: 0.8677141604830975\n",
            "The value of B2 is: 8.677141604830975\n"
          ]
        }
      ],
      "source": [
        "# To find BOD at 7th day 25C\n",
        "#To find Decay Coefficient at 25C\n",
        "K= float(input(\"Decay Coefficient:\"))\n",
        "T= float(input(\"Temperature of 3rd day BOD:\"))\n",
        "TI=float(input(\"Temperature of 7th day BOD:\"))\n",
        "K2 = (K*(1.047**(TI-T)))\n",
        "print (\"The value ofK2 is:\", K2)\n",
        "#To find Ultimate BOD\n",
        "e=2.718\n",
        "print (\"The value ofe is:\", e)\n",
        "BI = float(input(\"BOD at 3rd day 20c:\"))\n",
        "t = float(input(\"time in days for finding B1:\"))\n",
        "E = (1- 2.71828 ** (-0.23 * t))\n",
        "print (\"The value of E is:\", E)\n",
        "BI = 10 *E\n",
        "print (\"The value of 10 is:\", 10)\n",
        "# To find BOD at 7th day 25C\n",
        "B2 = float(input(\"BoD at 7rd day 25c:\"))\n",
        "t1=float(input(\"time in days for findinfB2:\"))\n",
        "El =(1-e**(-0.289*t1))\n",
        "print (\"The value ofEl is:\", El)\n",
        "B2 = (10*El)\n",
        "print (\"The value of B2 is:\", B2)\n"
      ]
    },
    {
      "cell_type": "markdown",
      "source": [
        "Q2"
      ],
      "metadata": {
        "id": "gaE071MGPzzu"
      }
    },
    {
      "cell_type": "code",
      "source": [
        "\n",
        "#Determination if density of sludge removed from aeration tank\n",
        "M= float(input(\"Enter the value of initial mass :\"))\n",
        "S=float(input(\"Enter the value ofsolid containing sludge in percentage:\"))\n",
        "Gs=float (input(\"Enterthe value of Specific gravity ofsludge solidקיי:\"))\n",
        "Rho_W=float(input(\"Enter the value of density of water:\"))\n",
        "Ws= ((S/M)*100)\n",
        "m=M-Ws\n",
        "print(\"the value ofmass of water:\",m)\n",
        "print(\"The value of Solid Content in sludge :\",Ws)\n",
        "Vw =m/Rho_W\n",
        "print (\"The Value of Volume:\",Vw)\n",
        "Rho_S =Gs * Rho_W\n",
        "print(\"The value ofDensity of solid content in sludge:\", Rho_S)\n",
        "Vs=(Ws/(Gs*Rho_S))\n",
        "print(\"The value of volume of solid content in sludge:\", Vs)\n",
        "Vt= Vw + Vs\n",
        "print(\"The value of total volume of solid content in sludge:\", Vt)\n",
        "Rho_SL= M/Vt\n",
        "print(\"The value of Density of sludge removed from aeration:\", Rho_SL)"
      ],
      "metadata": {
        "colab": {
          "base_uri": "https://localhost:8080/"
        },
        "id": "5dzjwADYP1U1",
        "outputId": "4f80a5cd-2867-4ffe-f04f-92511cdfffb0"
      },
      "execution_count": null,
      "outputs": [
        {
          "output_type": "stream",
          "name": "stdout",
          "text": [
            "Enter the value of initial mass :100\n",
            "Enter the value ofsolid containing sludge in percentage:2\n",
            "Enterthe value of Specific gravity ofsludge solidקיי:2.2\n",
            "Enter the value of density of water:1000\n",
            "the value ofmass of water: 98.0\n",
            "The value of Solid Content in sludge : 2.0\n",
            "The Value of Volume: 0.098\n",
            "The value ofDensity of solid content in sludge: 2200.0\n",
            "The value of volume of solid content in sludge: 0.00041322314049586776\n",
            "The value of total volume of solid content in sludge: 0.09841322314049587\n",
            "The value of Density of sludge removed from aeration: 1016.1236143768895\n"
          ]
        }
      ]
    }
  ]
}