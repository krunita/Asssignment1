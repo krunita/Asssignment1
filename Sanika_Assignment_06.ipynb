{
  "nbformat": 4,
  "nbformat_minor": 0,
  "metadata": {
    "colab": {
      "provenance": [],
      "authorship_tag": "ABX9TyOHStOHl4TnrHb4pZgIcGFG",
      "include_colab_link": true
    },
    "kernelspec": {
      "name": "python3",
      "display_name": "Python 3"
    },
    "language_info": {
      "name": "python"
    }
  },
  "cells": [
    {
      "cell_type": "markdown",
      "metadata": {
        "id": "view-in-github",
        "colab_type": "text"
      },
      "source": [
        "<a href=\"https://colab.research.google.com/github/krunita/Asssignment1/blob/main/Sanika_Assignment_06.ipynb\" target=\"_parent\"><img src=\"https://colab.research.google.com/assets/colab-badge.svg\" alt=\"Open In Colab\"/></a>"
      ]
    },
    {
      "cell_type": "markdown",
      "source": [
        "Q1"
      ],
      "metadata": {
        "id": "k47XPxxVI3Hk"
      }
    },
    {
      "cell_type": "code",
      "source": [
        "#Stress When depth is constant\n",
        "import math\n",
        "Q = float(input(\"Enter the value of Load in kN: \"))\n",
        "N = int(input(\"Number of data values of radial distance: \"))\n",
        "Z = float(input(\"Depth: \"))\n",
        "r= []\n",
        "for i in range(1, N + 1):\n",
        "  print (\"Enter radial distance in m\".format (i))\n",
        "  Value_r = float(input ())\n",
        "  r.append(Value_r) # this line was not indented correctly, causing the error\n",
        "  Stress = ((3*Q)/(2*math.pi*Z*Z) ) * (((1/ (1+((Value_r/Z) **2)))) ** 2.5)\n",
        "  print (\"Stress: \", Stress, \" kN/m^2\")"
      ],
      "metadata": {
        "colab": {
          "base_uri": "https://localhost:8080/"
        },
        "id": "y9SyUGugI6GA",
        "outputId": "4d4d58a7-fee5-48a3-8a52-1192ce3086a0"
      },
      "execution_count": null,
      "outputs": [
        {
          "output_type": "stream",
          "name": "stdout",
          "text": [
            "Enter the value of Load in kN: 2500\n",
            "Number of data values of radial distance: 5\n",
            "Depth: 6\n",
            "Enter radial distance in m\n",
            "1\n",
            "Stress:  30.9621304453601  kN/m^2\n",
            "Enter radial distance in m\n",
            "2\n",
            "Stress:  25.479163627896558  kN/m^2\n",
            "Enter radial distance in m\n",
            "3\n",
            "Stress:  18.980334491124726  kN/m^2\n",
            "Enter radial distance in m\n",
            "4\n",
            "Stress:  13.222902239693882  kN/m^2\n",
            "Enter radial distance in m\n",
            "5\n",
            "Stress:  8.871775810212817  kN/m^2\n"
          ]
        }
      ]
    },
    {
      "cell_type": "markdown",
      "source": [
        "Q2"
      ],
      "metadata": {
        "id": "40bf84VRMKhy"
      }
    },
    {
      "cell_type": "code",
      "source": [
        "\n",
        "# Stress when Radius is Constant\n",
        "Q = float (input(\"Enter the value of Load in kN: \"))\n",
        "M= int (input (\"Number of data values of depth: \"))\n",
        "pi = 3.14159265359\n",
        "r = float (input(\"Radial Distance: \"))\n",
        "Z = []\n",
        "for j in range (1, M+1):\n",
        "  print (\"Enter depth in z\".format (j))\n",
        "  Value_Z = float (input ())\n",
        "  Z.append (Value_Z)\n",
        "  Stress = ((3*Q)/(2*pi*Value_Z* Value_Z)) * ((1/ (1+ ( (r/Value_Z) **2))))**2.5\n",
        "  print (\"Stress: \", Stress, \"kN/m^2\")\n"
      ],
      "metadata": {
        "colab": {
          "base_uri": "https://localhost:8080/"
        },
        "id": "kXAGsyndMMa_",
        "outputId": "8f4b9fde-2447-4c60-aeed-e0f89c5cbb0b"
      },
      "execution_count": null,
      "outputs": [
        {
          "output_type": "stream",
          "name": "stdout",
          "text": [
            "Enter the value of Load in kN: 2500\n",
            "Number of data values of depth: 6\n",
            "Radial Distance: 5\n",
            "Enter depth in z\n",
            "1\n",
            "Stress:  0.34629643854273023 kN/m^2\n",
            "Enter depth in z\n",
            "2\n",
            "Stress:  2.1085135063018074 kN/m^2\n",
            "Enter depth in z\n",
            "3\n",
            "Stress:  4.781320614736756 kN/m^2\n",
            "Enter depth in z\n",
            "4\n",
            "Stress:  7.0974399578803125 kN/m^2\n",
            "Enter depth in z\n",
            "5\n",
            "Stress:  8.440465463972316 kN/m^2\n",
            "Enter depth in z\n",
            "6\n",
            "Stress:  8.871775810212231 kN/m^2\n"
          ]
        }
      ]
    },
    {
      "cell_type": "markdown",
      "source": [
        "Q3"
      ],
      "metadata": {
        "id": "I0b1CCFLMrzO"
      }
    },
    {
      "cell_type": "code",
      "source": [
        "# Calculating the stress by Boussineq's Theory\n",
        "Q= int(input(\"Enter the value of given load: \"))\n",
        "z= int(input(\"Enter the distance of vertical stress: \"))\n",
        "r= int(input(\"Enter the distance of horizntal stress: \"))\n",
        "stress = (3*Q*(1/(1+(r/z)**2)) ** 2.5)/(2*3.14*(z**2))\n",
        "print(\"The value of stress is\", stress)"
      ],
      "metadata": {
        "colab": {
          "base_uri": "https://localhost:8080/"
        },
        "id": "xmhW7FLWMtfu",
        "outputId": "9633ee32-2068-4466-b2ef-df8f0888e352"
      },
      "execution_count": null,
      "outputs": [
        {
          "output_type": "stream",
          "name": "stdout",
          "text": [
            "Enter the value of given load: 2500\n",
            "Enter the distance of vertical stress: 6\n",
            "Enter the distance of horizntal stress: 5\n",
            "The value of stress is 8.876275703713446\n"
          ]
        }
      ]
    }
  ]
}