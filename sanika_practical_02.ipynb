{
  "nbformat": 4,
  "nbformat_minor": 0,
  "metadata": {
    "colab": {
      "provenance": [],
      "authorship_tag": "ABX9TyPUnMdraySjR0Euc2R4y5Ey",
      "include_colab_link": true
    },
    "kernelspec": {
      "name": "python3",
      "display_name": "Python 3"
    },
    "language_info": {
      "name": "python"
    }
  },
  "cells": [
    {
      "cell_type": "markdown",
      "metadata": {
        "id": "view-in-github",
        "colab_type": "text"
      },
      "source": [
        "<a href=\"https://colab.research.google.com/github/krunita/Asssignment1/blob/main/sanika_practical_02.ipynb\" target=\"_parent\"><img src=\"https://colab.research.google.com/assets/colab-badge.svg\" alt=\"Open In Colab\"/></a>"
      ]
    },
    {
      "cell_type": "markdown",
      "source": [
        "Q1"
      ],
      "metadata": {
        "id": "XA7q2WNBSxdt"
      }
    },
    {
      "cell_type": "code",
      "source": [
        "#Calculation of total Infiltration by Horton's Eqn\n",
        "fo = float(input(\"Enter the Value of Initial Infiltration (Fo):\"))\n",
        "fc = float(input(\"Enter the Value of Final Infiltration (Fc):\"))\n",
        "kh = float(input(\"Enter the Value of Decay Coefficient:\"))\n",
        "t = float(input(\"Enter the Value of Time (t):\"))\n",
        "\n",
        "#The Total Infiltration is given by:\n",
        "Fp = fc*t+(fo-fc)/kh\n",
        "RFp = round(Fp,3)\n",
        "print(\"The Value of Total Infiltration is\",RFp)"
      ],
      "metadata": {
        "colab": {
          "base_uri": "https://localhost:8080/"
        },
        "id": "1_-TFa3KS2h0",
        "outputId": "e0d6f014-1378-45c9-8a2d-4b27de65e76c"
      },
      "execution_count": null,
      "outputs": [
        {
          "output_type": "stream",
          "name": "stdout",
          "text": [
            "Enter the Value of Initial Infiltration (Fo):6\n",
            "Enter the Value of Final Infiltration (Fc):1.2\n",
            "Enter the Value of Decay Coefficient:0.888\n",
            "Enter the Value of Time (t):8\n",
            "The Value of Total Infiltration is 15.005\n"
          ]
        }
      ]
    },
    {
      "cell_type": "markdown",
      "source": [
        "Q2"
      ],
      "metadata": {
        "id": "Ay_kc6enTM5y"
      }
    },
    {
      "cell_type": "code",
      "source": [
        "#Calculation of Mean precipitation by Isohytel Method\n",
        "#The value of precipitation at Each station is\n",
        "p1 = float(input(\"Enter the value of rainfall at Station 1:\"))\n",
        "p2 = float(input(\"Enter the value of rainfall at Station 2:\"))\n",
        "p3 = float(input(\"Enter the value of rainfall at Station 3:\"))\n",
        "p4 = float(input(\"Enter the value of rainfall at Station 4:\"))\n",
        "p5 = float(input(\"Enter the value of rainfall at Station 5:\"))\n",
        "p6 = float(input(\"Enter the value of rainfall at Station 6:\"))\n",
        "p7 = float(input(\"Enter the value of rainfall at Station 7:\"))\n",
        "p8 = float(input(\"Enter the value of rainfall at Station 8:\"))\n",
        "\n",
        "#Area of Each station\n",
        "a1 = float(input(\"Enter the value of Catchment Area for raingage Sation 1:\"))\n",
        "a2 = float(input(\"Enter the value of Catchment Area for raingage Sation 2:\"))\n",
        "a3 = float(input(\"Enter the value of Catchment Area for raingage Sation 3:\"))\n",
        "a4 = float(input(\"Enter the value of Catchment Area for raingage Sation 4:\"))\n",
        "a5 = float(input(\"Enter the value of Catchment Area for raingage Sation 5:\"))\n",
        "a6 = float(input(\"Enter the value of Catchment Area for raingage Sation 6:\"))\n",
        "a7 = float(input(\"Enter the value of Catchment Area for raingage Sation 7:\"))\n",
        "\n",
        "#Total Catchment area is\n",
        "A = a1+a2+a3+a4+a5+a6+a7\n",
        "RA = round(A,3)\n",
        "print(\"The value of Total Area of catchment (A) =\",RA,\"km2\")\n",
        "\n",
        "#Mean Precipitation\n",
        "p = (((p1+p2)*a1)/2+((p2+p3)*a2)/2+((p3+p4)*a3)/2+((p4+p5)*a4)/2+((p5+p6)*a5)/2+((p7+p8)*a7)/2)/A\n",
        "Rp = round(p,3)\n",
        "print(\"The value of Mean Precipitation is =\",Rp,\"cm\")"
      ],
      "metadata": {
        "colab": {
          "base_uri": "https://localhost:8080/"
        },
        "id": "R3vRc96eTOKg",
        "outputId": "c9ea5f4c-045c-40c2-d68f-6b15c06151b6"
      },
      "execution_count": null,
      "outputs": [
        {
          "output_type": "stream",
          "name": "stdout",
          "text": [
            "Enter the value of rainfall at Station 1:14\n",
            "Enter the value of rainfall at Station 2:12\n",
            "Enter the value of rainfall at Station 3:10\n",
            "Enter the value of rainfall at Station 4:8\n",
            "Enter the value of rainfall at Station 5:6\n",
            "Enter the value of rainfall at Station 6:4\n",
            "Enter the value of rainfall at Station 7:2\n",
            "Enter the value of rainfall at Station 8:0\n",
            "Enter the value of Catchment Area for raingage Sation 1:90\n",
            "Enter the value of Catchment Area for raingage Sation 2:140\n",
            "Enter the value of Catchment Area for raingage Sation 3:125\n",
            "Enter the value of Catchment Area for raingage Sation 4:140\n",
            "Enter the value of Catchment Area for raingage Sation 5:85\n",
            "Enter the value of Catchment Area for raingage Sation 6:40\n",
            "Enter the value of Catchment Area for raingage Sation 7:20\n",
            "The value of Total Area of catchment (A) = 640.0 km2\n",
            "The value of Mean Precipitation is = 8.219 cm\n"
          ]
        }
      ]
    },
    {
      "cell_type": "markdown",
      "source": [
        "Q3"
      ],
      "metadata": {
        "id": "GVCbgFcJTajl"
      }
    },
    {
      "cell_type": "code",
      "source": [
        "#Calculation of Mean precipitation by theissen's polygon Method\n",
        "#the value of precipitation at Each station is\n",
        "p1 = float(input(\"Enter the value of rainfall at Station 1:\"))\n",
        "p2 = float(input(\"Enter the value of rainfall at Station 2:\"))\n",
        "p3 = float(input(\"Enter the value of rainfall at Station 3:\"))\n",
        "p4 = float(input(\"Enter the value of rainfall at Station 4:\"))\n",
        "p5 = float(input(\"Enter the value of rainfall at Station 5:\"))\n",
        "\n",
        "#Area of Each station\n",
        "a1 = float(input(\"Enter the value of Catchment Area for raingage Sation 1:\"))\n",
        "a2 = float(input(\"Enter the value of Catchment Area for raingage Sation 2:\"))\n",
        "a3 = float(input(\"Enter the value of Catchment Area for raingage Sation 3:\"))\n",
        "a4 = float(input(\"Enter the value of Catchment Area for raingage Sation 4:\"))\n",
        "a5 = float(input(\"Enter the value of Catchment Area for raingage Sation 5:\"))\n",
        "\n",
        "#Total Catchment area is\n",
        "A = a1+a2+a3+a4+a5\n",
        "RA = round(A,3)\n",
        "print(\"The value of Total Area of catchment (A) =\",RA)\n",
        "\n",
        "#Runoff Volume\n",
        "V = (p1*a1+p2*a2+p3*a3+p4*a4+p5*a5)*2500\n",
        "RV = round(V,3)\n",
        "print(\"The runoff volume from the given Catchment is (V) =\",RV)\n",
        "\n",
        "#Mean Precipitaion\n",
        "p = (p1*a1+p2*a2+p3*a3+p4*a4+p5*a5)/A\n",
        "Rp = round(p,3)\n",
        "print(\"The value of Mean Precipitation is =\",Rp)"
      ],
      "metadata": {
        "colab": {
          "base_uri": "https://localhost:8080/"
        },
        "id": "ulhcBUDlTb6F",
        "outputId": "c04ad16d-7737-43f9-e069-02292dd3d7be"
      },
      "execution_count": null,
      "outputs": [
        {
          "output_type": "stream",
          "name": "stdout",
          "text": [
            "Enter the value of rainfall at Station 1:125\n",
            "Enter the value of rainfall at Station 2:175\n",
            "Enter the value of rainfall at Station 3:225\n",
            "Enter the value of rainfall at Station 4:275\n",
            "Enter the value of rainfall at Station 5:325\n",
            "Enter the value of Catchment Area for raingage Sation 1:25\n",
            "Enter the value of Catchment Area for raingage Sation 2:30\n",
            "Enter the value of Catchment Area for raingage Sation 3:30\n",
            "Enter the value of Catchment Area for raingage Sation 4:10\n",
            "Enter the value of Catchment Area for raingage Sation 5:5\n",
            "The value of Total Area of catchment (A) = 100.0\n",
            "The runoff volume from the given Catchment is (V) = 48750000.0\n",
            "The value of Mean Precipitation is = 195.0\n"
          ]
        }
      ]
    },
    {
      "cell_type": "markdown",
      "source": [
        "OR"
      ],
      "metadata": {
        "id": "2iI1wK9STj_9"
      }
    },
    {
      "cell_type": "code",
      "source": [
        "#2nd Method to write a code\n",
        "import numpy as geek\n",
        "#Rainfall\n",
        "N = int(input(\"Number of data values of Rainfall :\"))\n",
        "R = []\n",
        "for i in range (1,N+1):\n",
        "  print(\"Enter rainfall in cm:\")\n",
        "  Value_rainfall = float(input())\n",
        "  R.append(Value_rainfall)\n",
        "\n",
        "#Catchment Area\n",
        "M = int(input(\"Number of data values of Area :\"))\n",
        "A = []\n",
        "for j in range (1,M+1):\n",
        "  print(\"Enter Catchment Area:\")\n",
        "  Value_area = float(input())\n",
        "  A.append(Value_area)\n",
        "\n",
        "#Mean precipitation\n",
        "product = geek.dot(R,A)\n",
        "mean_precipitation = product/sum(A)\n",
        "print (\"mean Precipitation =\",mean_precipitation,\"cm\")"
      ],
      "metadata": {
        "colab": {
          "base_uri": "https://localhost:8080/"
        },
        "id": "C1LFKT5eTlE2",
        "outputId": "dce099b6-55f1-4393-efc1-3ec369cbc60a"
      },
      "execution_count": null,
      "outputs": [
        {
          "output_type": "stream",
          "name": "stdout",
          "text": [
            "Number of data values of Rainfall :5\n",
            "Enter rainfall in cm:\n",
            "125\n",
            "Enter rainfall in cm:\n",
            "175\n",
            "Enter rainfall in cm:\n",
            "225\n",
            "Enter rainfall in cm:\n",
            "275\n",
            "Enter rainfall in cm:\n",
            "325\n",
            "Number of data values of Area :5\n",
            "Enter Catchment Area:\n",
            "25\n",
            "Enter Catchment Area:\n",
            "30\n",
            "Enter Catchment Area:\n",
            "30\n",
            "Enter Catchment Area:\n",
            "10\n",
            "Enter Catchment Area:\n",
            "5\n",
            "mean Precipitation = 195.0 cm\n"
          ]
        }
      ]
    }
  ]
}