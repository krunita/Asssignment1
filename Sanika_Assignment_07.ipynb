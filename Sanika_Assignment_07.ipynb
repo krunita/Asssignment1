{
  "nbformat": 4,
  "nbformat_minor": 0,
  "metadata": {
    "colab": {
      "provenance": [],
      "authorship_tag": "ABX9TyO19VVfJj5rYOdVFjmyAtdZ",
      "include_colab_link": true
    },
    "kernelspec": {
      "name": "python3",
      "display_name": "Python 3"
    },
    "language_info": {
      "name": "python"
    }
  },
  "cells": [
    {
      "cell_type": "markdown",
      "metadata": {
        "id": "view-in-github",
        "colab_type": "text"
      },
      "source": [
        "<a href=\"https://colab.research.google.com/github/krunita/Asssignment1/blob/main/Sanika_Assignment_07.ipynb\" target=\"_parent\"><img src=\"https://colab.research.google.com/assets/colab-badge.svg\" alt=\"Open In Colab\"/></a>"
      ]
    },
    {
      "cell_type": "markdown",
      "source": [
        "Q1"
      ],
      "metadata": {
        "id": "Xb2DjuV-uKPE"
      }
    },
    {
      "cell_type": "code",
      "source": [
        "# To Determine the bearing capacity of soil with water table\n",
        "\n",
        "BulkDensity = float(input(\"Enter the value of Bulk Density of soil:\"))\n",
        "SatDensity = float(input(\"Enter the value of Saturated Density of soil:\"))\n",
        "WaterDensity = float(input(\"Enter the unit Weight of Water:\"))\n",
        "Df = float(input(\"Enter the value of depth of footing:\"))\n",
        "Dw = float(input(\"Enter the value of water table above footing level:\"))\n",
        "Dw1 = float(input(\"Enter the value of Water table below the level of footing:\"))\n",
        "B = float(input(\"Enter thevalue of width of footing:\"))\n",
        "Nq = float(input(\"Enter the value of Ng:\"))\n",
        "N = float(input(\"Enter thevalue of N gamma (N):\"))\n",
        "SubDensity = 0\n",
        "# You need to assign a value to SubDensity\n",
        "SatDensity = 0\n",
        "# You need to assign a value to SatDensity\n",
        "WaterDensity = 0\n",
        "# You need to assign a value to WaterDensity\n",
        "print (\"Submerged Weight of soil is:\", SubDensity)\n",
        "# The bearing capacity of soil whhen water table is at ground\n",
        "print (\"CASE A\")\n",
        "qu = (SubDensity * Df * Nq) + (0.5 * 0.8 * B * SubDensity * N)\n",
        "print (\"The value of ultimate bearing capacity of soil is:\", qu)\n",
        "#Approximate calculation of Bearing capacity of soil is.\n",
        "Rw = 0.5 + 0.5 * (Dw / B)\n",
        "print (\"The value of Rw is:\", Rw)\n",
        "Rw1 = 0.5 + 0.5 * (Dw1 / 8)\n",
        "print (\"The value of Rw1 is:\", Rw1)\n",
        "qu = (BulkDensity * Df * Nq * Rw) + (0.5 * 0.8 * 3 * BulkDensity * N * Rw1)\n",
        "print (\"The value ultimate bearing capacity of soil is:\", qu)\n",
        "# Case B\n",
        "print (\"CASE B\")\n",
        "qu = (BulkDensity * Df * Nq) + (0.5 * 0.8 * 8 * SubDensity)\n",
        "print (\"The value of ultimate bearing capacity is:\", qu)\n",
        "Dw = float(input(\"Enter the value of water table above footing level:\"))\n",
        "Dw1 = float(input(\"Enterthe value of Water table below the level of footing: \"))\n",
        "print (\"The approximate value of ultimate bearing capacity is: \")\n",
        "Rw = 0.5 + 0.5 * (Dw / B)\n",
        "print (\"The value of Rw is:\", Rw)\n",
        "Rw1 = 0.5 + 0.5 * (Dw1 / 8)\n",
        "print (\"The value of Rw1 is:\", Rw1)\n",
        "qu = (BulkDensity * Df * Nq * Rw) / (0.5 + 0.8 * 8 * BulkDensity * Rw1)\n",
        "print (\"The approximate value of ultimate hearing capacity is: \", qu)\n",
        "# Case C\n",
        "print (\"CASE C\")\n",
        "X = float(input(\"Enter the value of depthof water below footing:\"))\n",
        "# Assuming you have defined BulkDensity, SubDensity, B, and N elsewhere\n",
        "qu = (BulkDensity * Nq) + (0.5 * 0.8 * ((BulkDensity * X) + (SubDensity * (B - X)) * N))\n",
        "print (\"The value of ultimate bearing capacity is:\", qu)\n",
        "Dw = float(input(\"Enter the value of water table above footing level:\"))\n",
        "Dw1 = float(input(\"Enter the value of Water table below the level of footing:\"))\n",
        "print (\"The approximate value of ultimate bearing capacity is:\")\n",
        "Rw = 8.5 + 8.5 * (Dw / B)\n",
        "print (\"The value of Rw is:\", Rw)\n",
        "Rw1 = 0.5 + 0.5 * (Dw1 / 8)\n",
        "print (\"The value of Rw1 is:\", Rw1)\n",
        "qu = (BulkDensity * Df * Nq * Rw) + (0.5 * 0.8 * 8 * BulkDensity * N * Rw1)\n",
        "print (\"the value of ultimate bearing capaciy is:\", qu)"
      ],
      "metadata": {
        "id": "EgJsxqChuQT1",
        "colab": {
          "base_uri": "https://localhost:8080/"
        },
        "outputId": "ed49230f-c98d-49a8-abc1-560c9a877a61"
      },
      "execution_count": null,
      "outputs": [
        {
          "output_type": "stream",
          "name": "stdout",
          "text": [
            "Enter the value of Bulk Density of soil:18\n",
            "Enter the value of Saturated Density of soil:20\n",
            "Enter the unit Weight of Water:10\n",
            "Enter the value of depth of footing:2\n",
            "Enter the value of water table above footing level:0\n",
            "Enter the value of Water table below the level of footing:0\n",
            "Enter thevalue of width of footing:3\n",
            "Enter the value of Ng:33\n",
            "Enter thevalue of N gamma (N):34\n",
            "Submerged Weight of soil is: 0\n",
            "CASE A\n",
            "The value of ultimate bearing capacity of soil is: 0.0\n",
            "The value of Rw is: 0.5\n",
            "The value of Rw1 is: 0.5\n",
            "The value ultimate bearing capacity of soil is: 961.2\n",
            "CASE B\n",
            "The value of ultimate bearing capacity is: 1188.0\n",
            "Enter the value of water table above footing level:3\n",
            "Enterthe value of Water table below the level of footing: 0\n",
            "The approximate value of ultimate bearing capacity is: \n",
            "The value of Rw is: 1.0\n",
            "The value of Rw1 is: 0.5\n",
            "The approximate value of ultimate hearing capacity is:  20.44750430292599\n",
            "CASE C\n",
            "Enter the value of depthof water below footing:1\n",
            "The value of ultimate bearing capacity is: 601.2\n",
            "Enter the value of water table above footing level:3\n",
            "Enter the value of Water table below the level of footing:1\n",
            "The approximate value of ultimate bearing capacity is:\n",
            "The value of Rw is: 17.0\n",
            "The value of Rw1 is: 0.5625\n",
            "the value of ultimate bearing capaciy is: 21297.6\n"
          ]
        }
      ]
    },
    {
      "cell_type": "markdown",
      "source": [],
      "metadata": {
        "id": "pXjxEfcNy7AK"
      }
    },
    {
      "cell_type": "markdown",
      "source": [
        "Q2"
      ],
      "metadata": {
        "id": "T6PDOF5GzcKJ"
      }
    },
    {
      "cell_type": "code",
      "source": [
        "# To find the ultimate load carring capacity of pile\n",
        "\n",
        "UCS = float(input(\"Enter the value of UCS of soil:\"))\n",
        "\n",
        "Cu = UCS/2\n",
        "B= float(input(\"Enterthevalue of dimension of pile:\"))\n",
        "\n",
        "I=float(input(\"Enter the length of pile:\"))\n",
        "\n",
        "Alpha =float(input(\"Enter thevalue of adhesion factor:\"))\n",
        "\n",
        "Nc= float(input(\"The value of Nc: \"))\n",
        "\n",
        "Ab = B*B\n",
        "print (\"the Base area of footing is:\", Ab)\n",
        "\n",
        "As = 4*B*I\n",
        "print (\"The value of chohesion of soil is:\", Cu)\n",
        "\n",
        "Qpu= Cu*Nc*Ab\n",
        "print (\"Qpu:\", Qpu)\n",
        "Qf = Alpha*Cu*As\n",
        "print (\"Qf:\", Qf)\n",
        "#OUTPUT:\n",
        "#Computer Programming in Civil Engineering\n",
        "\n",
        "Qu= Qpu + Qf\n",
        "print (\"the value of load carring capacity of pile is (Qu):\",Qu)"
      ],
      "metadata": {
        "colab": {
          "base_uri": "https://localhost:8080/"
        },
        "id": "jXWJ9E2LzgPN",
        "outputId": "c51fd541-210c-4152-c8ae-264237ea660e"
      },
      "execution_count": null,
      "outputs": [
        {
          "output_type": "stream",
          "name": "stdout",
          "text": [
            "Enter the value of UCS of soil:75\n",
            "Enterthevalue of dimension of pile:0.45\n",
            "Enter the length of pile:15\n",
            "Enter thevalue of adhesion factor:0.8\n",
            "The value of Nc: 9\n",
            "the Base area of footing is: 0.2025\n",
            "The value of chohesion of soil is: 37.5\n",
            "Qpu: 68.34375\n",
            "Qf: 810.0\n",
            "the value of load carring capacity of pile is (Qu): 878.34375\n"
          ]
        }
      ]
    },
    {
      "cell_type": "markdown",
      "source": [
        "Q3"
      ],
      "metadata": {
        "id": "pBMZJlqo0JKT"
      }
    },
    {
      "cell_type": "code",
      "source": [
        "# To Determine the bearing capacity of soil with water table\n",
        "BulkDensity = float (input (\"Enter the value of Bulk Density of soil:\"))\n",
        "SatDensity = float (input (\"Enter the value of Saturated Density of soil:\"))\n",
        "WaterDensity = float (input (\"Enter the unit Weight of Water:\"))\n",
        "Df = float (input (\"Enter the value of depth of footing:\"))\n",
        "B = float (input (\"Enter the value of width of footing:\"))\n",
        "Nq =float (input (\"Enter the value of Ng:\"))\n",
        "N_Gamma = float (input (\"Enter the value of N gamma (N):\"))\n",
        "SubDensity = SatDensity - WaterDensity\n",
        "print (\"Submerged Weight of soil is:\", SubDensity)\n",
        "M = int (input(\"Number of data values of Water table above footing level: \"))\n",
        "N = int (input(\"Number of data values of Water table below footing level: \"))\n",
        "Dw = []\n",
        "Dw1 =[]\n",
        "for i in range (1, M+1):\n",
        " print (\"Enter the value of water table above footing level measured w.r.t. ground (Dw):\")\n",
        " Depth_Dw = float (input ())\n",
        " Dw.append (Depth_Dw)\n",
        "\n",
        " Rw = 0.5 + 0.5* (Depth_Dw/B)\n",
        " print (\"The value of Rw is:\", Rw)\n",
        "for j in range (1, N+1):\n",
        "  print (\"Enter the value of water table above footing level measured w.r.t. ground \")\n",
        "  Depth_Dw1 = float (input()) # Fixed the variable name here\n",
        "  Dw1.append (Depth_Dw1) # You probably meant to append to Dw1 here\n",
        "  Rw1 = 0.5 +0.5*(Depth_Dw1/B) # Removed the indent\n",
        "  print (\"The value of Rw1 is:\", Rw1) # Removed the indent\n",
        "qu= (BulkDensity*Df*Nq*Rw) + (0.5*0.8*B*BulkDensity*N_Gamma*Rw1)\n",
        "print (\"'qu: \", qu, \"kN/m^2\")"
      ],
      "metadata": {
        "colab": {
          "base_uri": "https://localhost:8080/"
        },
        "id": "RI-xsshoQhW1",
        "outputId": "eaa460bc-5d2f-4863-ce57-3721f81adc3e"
      },
      "execution_count": null,
      "outputs": [
        {
          "output_type": "stream",
          "name": "stdout",
          "text": [
            "Enter the value of Bulk Density of soil:18\n",
            "Enter the value of Saturated Density of soil:20\n",
            "Enter the unit Weight of Water:10\n",
            "Enter the value of depth of footing:2\n",
            "Enter the value of width of footing:3\n",
            "Enter the value of Ng:33\n",
            "Enter the value of N gamma (N):34\n",
            "Submerged Weight of soil is: 10.0\n",
            "Number of data values of Water table above footing level: 3\n",
            "Number of data values of Water table below footing level: 3\n",
            "Enter the value of water table above footing level measured w.r.t. ground (Dw):\n",
            "0\n",
            "The value of Rw is: 0.5\n",
            "Enter the value of water table above footing level measured w.r.t. ground (Dw):\n",
            "1\n",
            "The value of Rw is: 0.6666666666666666\n",
            "Enter the value of water table above footing level measured w.r.t. ground (Dw):\n",
            "2\n",
            "The value of Rw is: 0.8333333333333333\n",
            "Enter the value of water table above footing level measured w.r.t. ground \n",
            "0\n",
            "The value of Rw1 is: 0.5\n",
            "Enter the value of water table above footing level measured w.r.t. ground \n",
            "1\n",
            "The value of Rw1 is: 0.6666666666666666\n",
            "Enter the value of water table above footing level measured w.r.t. ground \n",
            "1\n",
            "The value of Rw1 is: 0.6666666666666666\n",
            "'qu:  1479.6 kN/m^2\n"
          ]
        }
      ]
    }
  ]
}